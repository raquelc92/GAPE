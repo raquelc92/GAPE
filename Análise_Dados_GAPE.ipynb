{
  "nbformat": 4,
  "nbformat_minor": 0,
  "metadata": {
    "colab": {
      "name": "Análise_Dados GAPE.ipynb",
      "provenance": [],
      "authorship_tag": "ABX9TyNeDp4okQT/XqtxH/k4vKKu",
      "include_colab_link": true
    },
    "kernelspec": {
      "name": "python3",
      "display_name": "Python 3"
    },
    "language_info": {
      "name": "python"
    }
  },
  "cells": [
    {
      "cell_type": "markdown",
      "metadata": {
        "id": "view-in-github",
        "colab_type": "text"
      },
      "source": [
        "<a href=\"https://colab.research.google.com/github/raquelc92/GAPE/blob/main/An%C3%A1lise_Dados_GAPE.ipynb\" target=\"_parent\"><img src=\"https://colab.research.google.com/assets/colab-badge.svg\" alt=\"Open In Colab\"/></a>"
      ]
    },
    {
      "cell_type": "code",
      "execution_count": null,
      "metadata": {
        "id": "YyHd1RoK1GA_"
      },
      "outputs": [],
      "source": [
        "import pandas as pd\n",
        "import matplotlib.pyplot as plt\n",
        "import seaborn as sns\n",
        "import numpy as np"
      ]
    },
    {
      "cell_type": "code",
      "source": [
        "df = pd.read_csv('gape.csv')"
      ],
      "metadata": {
        "id": "GghwmId-1sww"
      },
      "execution_count": null,
      "outputs": []
    },
    {
      "cell_type": "code",
      "source": [
        "df.head()"
      ],
      "metadata": {
        "colab": {
          "base_uri": "https://localhost:8080/",
          "height": 352
        },
        "id": "Q7eraJIR1wc6",
        "outputId": "421623d6-0303-4dab-e12b-16baea571415"
      },
      "execution_count": null,
      "outputs": [
        {
          "output_type": "execute_result",
          "data": {
            "text/plain": [
              "  NO_UF SG_UF  CO_UF NO_MUNICIPIO  CO_MUNICIPIO  CO_ENTIDADE  TP_DEPENDENCIA  \\\n",
              "0  Pará    PA     15   Pau D'Arco       1505551     15130959               3   \n",
              "1  Pará    PA     15   Pau D'Arco       1505551     15131572               2   \n",
              "2  Pará    PA     15   Pau D'Arco       1505551     15160467               3   \n",
              "3  Pará    PA     15   Pau D'Arco       1505551     15528294               3   \n",
              "4  Pará    PA     15   Pau D'Arco       1505551     15534847               3   \n",
              "\n",
              "        REDE  TP_LOCALIZACAO  TP_SITUACAO_FUNCIONAMENTO  ...  Vl Devido Total  \\\n",
              "0  Municipal               2                          1  ...         2.451,00   \n",
              "1   Estadual               1                          1  ...         3.328,00   \n",
              "2  Municipal               2                          1  ...                -   \n",
              "3  Municipal               2                          1  ...                -   \n",
              "4  Municipal               2                          1  ...         2.451,00   \n",
              "\n",
              "   Vl Ajuste Custeio  Vl Ajuste Capital  Vl Ajuste Total  \\\n",
              "0                  0                  0                0   \n",
              "1                  0                  0                0   \n",
              "2                  -                  -                -   \n",
              "3                  -                  -                -   \n",
              "4                  0                  0                0   \n",
              "\n",
              "   Vl Final Devido Total  Vl Pago Custeio  Vl Pago Capital  Valor Pago Total  \\\n",
              "0               2.451,00         1.560,01           890,99          2.451,00   \n",
              "1               3.328,00                0                0                 0   \n",
              "2                      -                -                -                 -   \n",
              "3                      -                -                -                 -   \n",
              "4               2.451,00         1.560,01           890,99          2.451,00   \n",
              "\n",
              "   Data Ord. Pgto  in_MED  \n",
              "0      13/10/2021     NaN  \n",
              "1             NaN      EM  \n",
              "2               -     NaN  \n",
              "3               -     NaN  \n",
              "4      13/10/2021     NaN  \n",
              "\n",
              "[5 rows x 82 columns]"
            ],
            "text/html": [
              "\n",
              "  <div id=\"df-ae3eb9b1-8662-42df-a81a-0f5b1bb06c5e\">\n",
              "    <div class=\"colab-df-container\">\n",
              "      <div>\n",
              "<style scoped>\n",
              "    .dataframe tbody tr th:only-of-type {\n",
              "        vertical-align: middle;\n",
              "    }\n",
              "\n",
              "    .dataframe tbody tr th {\n",
              "        vertical-align: top;\n",
              "    }\n",
              "\n",
              "    .dataframe thead th {\n",
              "        text-align: right;\n",
              "    }\n",
              "</style>\n",
              "<table border=\"1\" class=\"dataframe\">\n",
              "  <thead>\n",
              "    <tr style=\"text-align: right;\">\n",
              "      <th></th>\n",
              "      <th>NO_UF</th>\n",
              "      <th>SG_UF</th>\n",
              "      <th>CO_UF</th>\n",
              "      <th>NO_MUNICIPIO</th>\n",
              "      <th>CO_MUNICIPIO</th>\n",
              "      <th>CO_ENTIDADE</th>\n",
              "      <th>TP_DEPENDENCIA</th>\n",
              "      <th>REDE</th>\n",
              "      <th>TP_LOCALIZACAO</th>\n",
              "      <th>TP_SITUACAO_FUNCIONAMENTO</th>\n",
              "      <th>...</th>\n",
              "      <th>Vl Devido Total</th>\n",
              "      <th>Vl Ajuste Custeio</th>\n",
              "      <th>Vl Ajuste Capital</th>\n",
              "      <th>Vl Ajuste Total</th>\n",
              "      <th>Vl Final Devido Total</th>\n",
              "      <th>Vl Pago Custeio</th>\n",
              "      <th>Vl Pago Capital</th>\n",
              "      <th>Valor Pago Total</th>\n",
              "      <th>Data Ord. Pgto</th>\n",
              "      <th>in_MED</th>\n",
              "    </tr>\n",
              "  </thead>\n",
              "  <tbody>\n",
              "    <tr>\n",
              "      <th>0</th>\n",
              "      <td>Pará</td>\n",
              "      <td>PA</td>\n",
              "      <td>15</td>\n",
              "      <td>Pau D'Arco</td>\n",
              "      <td>1505551</td>\n",
              "      <td>15130959</td>\n",
              "      <td>3</td>\n",
              "      <td>Municipal</td>\n",
              "      <td>2</td>\n",
              "      <td>1</td>\n",
              "      <td>...</td>\n",
              "      <td>2.451,00</td>\n",
              "      <td>0</td>\n",
              "      <td>0</td>\n",
              "      <td>0</td>\n",
              "      <td>2.451,00</td>\n",
              "      <td>1.560,01</td>\n",
              "      <td>890,99</td>\n",
              "      <td>2.451,00</td>\n",
              "      <td>13/10/2021</td>\n",
              "      <td>NaN</td>\n",
              "    </tr>\n",
              "    <tr>\n",
              "      <th>1</th>\n",
              "      <td>Pará</td>\n",
              "      <td>PA</td>\n",
              "      <td>15</td>\n",
              "      <td>Pau D'Arco</td>\n",
              "      <td>1505551</td>\n",
              "      <td>15131572</td>\n",
              "      <td>2</td>\n",
              "      <td>Estadual</td>\n",
              "      <td>1</td>\n",
              "      <td>1</td>\n",
              "      <td>...</td>\n",
              "      <td>3.328,00</td>\n",
              "      <td>0</td>\n",
              "      <td>0</td>\n",
              "      <td>0</td>\n",
              "      <td>3.328,00</td>\n",
              "      <td>0</td>\n",
              "      <td>0</td>\n",
              "      <td>0</td>\n",
              "      <td>NaN</td>\n",
              "      <td>EM</td>\n",
              "    </tr>\n",
              "    <tr>\n",
              "      <th>2</th>\n",
              "      <td>Pará</td>\n",
              "      <td>PA</td>\n",
              "      <td>15</td>\n",
              "      <td>Pau D'Arco</td>\n",
              "      <td>1505551</td>\n",
              "      <td>15160467</td>\n",
              "      <td>3</td>\n",
              "      <td>Municipal</td>\n",
              "      <td>2</td>\n",
              "      <td>1</td>\n",
              "      <td>...</td>\n",
              "      <td>-</td>\n",
              "      <td>-</td>\n",
              "      <td>-</td>\n",
              "      <td>-</td>\n",
              "      <td>-</td>\n",
              "      <td>-</td>\n",
              "      <td>-</td>\n",
              "      <td>-</td>\n",
              "      <td>-</td>\n",
              "      <td>NaN</td>\n",
              "    </tr>\n",
              "    <tr>\n",
              "      <th>3</th>\n",
              "      <td>Pará</td>\n",
              "      <td>PA</td>\n",
              "      <td>15</td>\n",
              "      <td>Pau D'Arco</td>\n",
              "      <td>1505551</td>\n",
              "      <td>15528294</td>\n",
              "      <td>3</td>\n",
              "      <td>Municipal</td>\n",
              "      <td>2</td>\n",
              "      <td>1</td>\n",
              "      <td>...</td>\n",
              "      <td>-</td>\n",
              "      <td>-</td>\n",
              "      <td>-</td>\n",
              "      <td>-</td>\n",
              "      <td>-</td>\n",
              "      <td>-</td>\n",
              "      <td>-</td>\n",
              "      <td>-</td>\n",
              "      <td>-</td>\n",
              "      <td>NaN</td>\n",
              "    </tr>\n",
              "    <tr>\n",
              "      <th>4</th>\n",
              "      <td>Pará</td>\n",
              "      <td>PA</td>\n",
              "      <td>15</td>\n",
              "      <td>Pau D'Arco</td>\n",
              "      <td>1505551</td>\n",
              "      <td>15534847</td>\n",
              "      <td>3</td>\n",
              "      <td>Municipal</td>\n",
              "      <td>2</td>\n",
              "      <td>1</td>\n",
              "      <td>...</td>\n",
              "      <td>2.451,00</td>\n",
              "      <td>0</td>\n",
              "      <td>0</td>\n",
              "      <td>0</td>\n",
              "      <td>2.451,00</td>\n",
              "      <td>1.560,01</td>\n",
              "      <td>890,99</td>\n",
              "      <td>2.451,00</td>\n",
              "      <td>13/10/2021</td>\n",
              "      <td>NaN</td>\n",
              "    </tr>\n",
              "  </tbody>\n",
              "</table>\n",
              "<p>5 rows × 82 columns</p>\n",
              "</div>\n",
              "      <button class=\"colab-df-convert\" onclick=\"convertToInteractive('df-ae3eb9b1-8662-42df-a81a-0f5b1bb06c5e')\"\n",
              "              title=\"Convert this dataframe to an interactive table.\"\n",
              "              style=\"display:none;\">\n",
              "        \n",
              "  <svg xmlns=\"http://www.w3.org/2000/svg\" height=\"24px\"viewBox=\"0 0 24 24\"\n",
              "       width=\"24px\">\n",
              "    <path d=\"M0 0h24v24H0V0z\" fill=\"none\"/>\n",
              "    <path d=\"M18.56 5.44l.94 2.06.94-2.06 2.06-.94-2.06-.94-.94-2.06-.94 2.06-2.06.94zm-11 1L8.5 8.5l.94-2.06 2.06-.94-2.06-.94L8.5 2.5l-.94 2.06-2.06.94zm10 10l.94 2.06.94-2.06 2.06-.94-2.06-.94-.94-2.06-.94 2.06-2.06.94z\"/><path d=\"M17.41 7.96l-1.37-1.37c-.4-.4-.92-.59-1.43-.59-.52 0-1.04.2-1.43.59L10.3 9.45l-7.72 7.72c-.78.78-.78 2.05 0 2.83L4 21.41c.39.39.9.59 1.41.59.51 0 1.02-.2 1.41-.59l7.78-7.78 2.81-2.81c.8-.78.8-2.07 0-2.86zM5.41 20L4 18.59l7.72-7.72 1.47 1.35L5.41 20z\"/>\n",
              "  </svg>\n",
              "      </button>\n",
              "      \n",
              "  <style>\n",
              "    .colab-df-container {\n",
              "      display:flex;\n",
              "      flex-wrap:wrap;\n",
              "      gap: 12px;\n",
              "    }\n",
              "\n",
              "    .colab-df-convert {\n",
              "      background-color: #E8F0FE;\n",
              "      border: none;\n",
              "      border-radius: 50%;\n",
              "      cursor: pointer;\n",
              "      display: none;\n",
              "      fill: #1967D2;\n",
              "      height: 32px;\n",
              "      padding: 0 0 0 0;\n",
              "      width: 32px;\n",
              "    }\n",
              "\n",
              "    .colab-df-convert:hover {\n",
              "      background-color: #E2EBFA;\n",
              "      box-shadow: 0px 1px 2px rgba(60, 64, 67, 0.3), 0px 1px 3px 1px rgba(60, 64, 67, 0.15);\n",
              "      fill: #174EA6;\n",
              "    }\n",
              "\n",
              "    [theme=dark] .colab-df-convert {\n",
              "      background-color: #3B4455;\n",
              "      fill: #D2E3FC;\n",
              "    }\n",
              "\n",
              "    [theme=dark] .colab-df-convert:hover {\n",
              "      background-color: #434B5C;\n",
              "      box-shadow: 0px 1px 3px 1px rgba(0, 0, 0, 0.15);\n",
              "      filter: drop-shadow(0px 1px 2px rgba(0, 0, 0, 0.3));\n",
              "      fill: #FFFFFF;\n",
              "    }\n",
              "  </style>\n",
              "\n",
              "      <script>\n",
              "        const buttonEl =\n",
              "          document.querySelector('#df-ae3eb9b1-8662-42df-a81a-0f5b1bb06c5e button.colab-df-convert');\n",
              "        buttonEl.style.display =\n",
              "          google.colab.kernel.accessAllowed ? 'block' : 'none';\n",
              "\n",
              "        async function convertToInteractive(key) {\n",
              "          const element = document.querySelector('#df-ae3eb9b1-8662-42df-a81a-0f5b1bb06c5e');\n",
              "          const dataTable =\n",
              "            await google.colab.kernel.invokeFunction('convertToInteractive',\n",
              "                                                     [key], {});\n",
              "          if (!dataTable) return;\n",
              "\n",
              "          const docLinkHtml = 'Like what you see? Visit the ' +\n",
              "            '<a target=\"_blank\" href=https://colab.research.google.com/notebooks/data_table.ipynb>data table notebook</a>'\n",
              "            + ' to learn more about interactive tables.';\n",
              "          element.innerHTML = '';\n",
              "          dataTable['output_type'] = 'display_data';\n",
              "          await google.colab.output.renderOutput(dataTable, element);\n",
              "          const docLink = document.createElement('div');\n",
              "          docLink.innerHTML = docLinkHtml;\n",
              "          element.appendChild(docLink);\n",
              "        }\n",
              "      </script>\n",
              "    </div>\n",
              "  </div>\n",
              "  "
            ]
          },
          "metadata": {},
          "execution_count": 3
        }
      ]
    },
    {
      "cell_type": "code",
      "source": [
        "df.info()"
      ],
      "metadata": {
        "colab": {
          "base_uri": "https://localhost:8080/"
        },
        "id": "dW9vd_xW151y",
        "outputId": "5b8de271-eae0-4bd8-9a3c-c4c23a8320dc"
      },
      "execution_count": null,
      "outputs": [
        {
          "output_type": "stream",
          "name": "stdout",
          "text": [
            "<class 'pandas.core.frame.DataFrame'>\n",
            "RangeIndex: 181 entries, 0 to 180\n",
            "Data columns (total 82 columns):\n",
            " #   Column                     Non-Null Count  Dtype  \n",
            "---  ------                     --------------  -----  \n",
            " 0   NO_UF                      181 non-null    object \n",
            " 1   SG_UF                      181 non-null    object \n",
            " 2   CO_UF                      181 non-null    int64  \n",
            " 3   NO_MUNICIPIO               181 non-null    object \n",
            " 4   CO_MUNICIPIO               181 non-null    int64  \n",
            " 5   CO_ENTIDADE                181 non-null    int64  \n",
            " 6   TP_DEPENDENCIA             181 non-null    int64  \n",
            " 7   REDE                       181 non-null    object \n",
            " 8   TP_LOCALIZACAO             181 non-null    int64  \n",
            " 9   TP_SITUACAO_FUNCIONAMENTO  181 non-null    int64  \n",
            " 10  IN_DESKTOP_ALUNO           181 non-null    int64  \n",
            " 11  QT_DESKTOP_ALUNO           181 non-null    int64  \n",
            " 12  IN_COMP_PORTATIL_ALUNO     181 non-null    int64  \n",
            " 13  QT_COMP_PORTATIL_ALUNO     181 non-null    int64  \n",
            " 14  IN_TABLET_ALUNO            181 non-null    int64  \n",
            " 15  QT_TABLET_ALUNO            181 non-null    int64  \n",
            " 16  IN_INTERNET                181 non-null    int64  \n",
            " 17  IN_INTERNET_ALUNOS         181 non-null    int64  \n",
            " 18  IN_INTERNET_APRENDIZAGEM   181 non-null    int64  \n",
            " 19  TP_REDE_LOCAL              181 non-null    int64  \n",
            " 20  IN_BANDA_LARGA             117 non-null    float64\n",
            " 21  IN_REGULAR                 181 non-null    int64  \n",
            " 22  QT_MAT_BAS                 180 non-null    float64\n",
            " 23  QT_MAT_BAS_D               180 non-null    float64\n",
            " 24  QT_MAT_BAS_N               180 non-null    float64\n",
            " 25  QT_DOC_BAS                 180 non-null    float64\n",
            " 26  QT_TUR_BAS                 180 non-null    float64\n",
            " 27  QT_MAT_INF                 180 non-null    float64\n",
            " 28  QT_MAT_INF_CRE             180 non-null    float64\n",
            " 29  QT_MAT_INF_PRE             180 non-null    float64\n",
            " 30  QT_MAT_FUND                180 non-null    float64\n",
            " 31  QT_MAT_FUND_AI             180 non-null    float64\n",
            " 32  QT_MAT_FUND_AF             180 non-null    float64\n",
            " 33  QT_MAT_MED                 180 non-null    float64\n",
            " 34  QT_MAT_PROF                180 non-null    float64\n",
            " 35  QT_MAT_PROF_TEC            180 non-null    float64\n",
            " 36  QT_MAT_EJA                 180 non-null    float64\n",
            " 37  QT_MAT_EJA_FUND            180 non-null    float64\n",
            " 38  QT_MAT_EJA_MED             180 non-null    float64\n",
            " 39  QT_MAT_ESP                 180 non-null    float64\n",
            " 40  QT_MAT_ESP_CC              180 non-null    float64\n",
            " 41  QT_MAT_ESP_CE              180 non-null    float64\n",
            " 42  mat_maior_turno            180 non-null    float64\n",
            " 43  maior_turno                180 non-null    object \n",
            " 44  proxy_maior_turno          181 non-null    int64  \n",
            " 45  TCP_DOWN_MBPS              28 non-null     object \n",
            " 46  LAST_MEASURE2              28 non-null     object \n",
            " 47  n_disp_est                 181 non-null    int64  \n",
            " 48  est_por_disp               94 non-null     object \n",
            " 49  nivel_dispos               181 non-null    int64  \n",
            " 50  i_dispos                   181 non-null    int64  \n",
            " 51  vel_est                    28 non-null     object \n",
            " 52  i_conec_simet              28 non-null     float64\n",
            " 53  ano                        105 non-null    float64\n",
            " 54  Competência                105 non-null    float64\n",
            " 55  versao                     105 non-null    float64\n",
            " 56  base                       105 non-null    object \n",
            " 57  data_quest                 84 non-null     object \n",
            " 58  i_comp                     105 non-null    float64\n",
            " 59  soma_i                     105 non-null    float64\n",
            " 60  i_viab                     105 non-null    float64\n",
            " 61  tam_esc                    180 non-null    object \n",
            " 62  in_INF                     102 non-null    object \n",
            " 63  in_FUND_AI                 133 non-null    object \n",
            " 64  in_FUND_AF                 63 non-null     object \n",
            " 65  atend_etapas0              178 non-null    object \n",
            " 66  apoio_IEC                  0 non-null      float64\n",
            " 67  apoio_CIEB                 0 non-null      float64\n",
            " 68  assessoria_cieb0           0 non-null      float64\n",
            " 69  Destinação                 181 non-null    object \n",
            " 70  Vl Devido Custeio          181 non-null    object \n",
            " 71  Vl Devido Capital          181 non-null    object \n",
            " 72  Vl Devido Total            180 non-null    object \n",
            " 73  Vl Ajuste Custeio          181 non-null    object \n",
            " 74  Vl Ajuste Capital          181 non-null    object \n",
            " 75  Vl Ajuste Total            181 non-null    object \n",
            " 76  Vl Final Devido Total      179 non-null    object \n",
            " 77  Vl Pago Custeio            179 non-null    object \n",
            " 78  Vl Pago Capital            178 non-null    object \n",
            " 79  Valor Pago Total           178 non-null    object \n",
            " 80  Data Ord. Pgto             168 non-null    object \n",
            " 81  in_MED                     30 non-null     object \n",
            "dtypes: float64(32), int64(21), object(29)\n",
            "memory usage: 116.1+ KB\n"
          ]
        }
      ]
    },
    {
      "cell_type": "code",
      "source": [
        "df.drop([\"QT_MAT_BAS\", \"QT_MAT_BAS_D\", \"QT_MAT_BAS_N\", \"QT_MAT_INF\", \"QT_MAT_INF_CRE\", \"QT_MAT_INF_PRE\",\n",
        "         \"QT_MAT_FUND\", \"QT_MAT_FUND_AF\", \"QT_MAT_MED\"], axis=1, inplace=True)"
      ],
      "metadata": {
        "id": "zief8oCo3p_p"
      },
      "execution_count": null,
      "outputs": []
    },
    {
      "cell_type": "code",
      "source": [
        "df.drop([\"QT_MAT_PROF\", \"QT_MAT_PROF_TEC\", \"QT_MAT_EJA\", \"QT_MAT_EJA_FUND\", \"QT_MAT_EJA_MED\", \"QT_MAT_ESP\", \"QT_MAT_ESP_CC\", \"QT_MAT_ESP_CE\"], axis=1, inplace=True)"
      ],
      "metadata": {
        "id": "AkRgFn5T5S0h"
      },
      "execution_count": null,
      "outputs": []
    },
    {
      "cell_type": "code",
      "source": [
        "df.info()"
      ],
      "metadata": {
        "colab": {
          "base_uri": "https://localhost:8080/"
        },
        "id": "gyW7DQtR6tkv",
        "outputId": "da3c3c25-cc55-48bc-dcac-24e362b0edd6"
      },
      "execution_count": null,
      "outputs": [
        {
          "output_type": "stream",
          "name": "stdout",
          "text": [
            "<class 'pandas.core.frame.DataFrame'>\n",
            "RangeIndex: 181 entries, 0 to 180\n",
            "Data columns (total 65 columns):\n",
            " #   Column                     Non-Null Count  Dtype  \n",
            "---  ------                     --------------  -----  \n",
            " 0   NO_UF                      181 non-null    object \n",
            " 1   SG_UF                      181 non-null    object \n",
            " 2   CO_UF                      181 non-null    int64  \n",
            " 3   NO_MUNICIPIO               181 non-null    object \n",
            " 4   CO_MUNICIPIO               181 non-null    int64  \n",
            " 5   CO_ENTIDADE                181 non-null    int64  \n",
            " 6   TP_DEPENDENCIA             181 non-null    int64  \n",
            " 7   REDE                       181 non-null    object \n",
            " 8   TP_LOCALIZACAO             181 non-null    int64  \n",
            " 9   TP_SITUACAO_FUNCIONAMENTO  181 non-null    int64  \n",
            " 10  IN_DESKTOP_ALUNO           181 non-null    int64  \n",
            " 11  QT_DESKTOP_ALUNO           181 non-null    int64  \n",
            " 12  IN_COMP_PORTATIL_ALUNO     181 non-null    int64  \n",
            " 13  QT_COMP_PORTATIL_ALUNO     181 non-null    int64  \n",
            " 14  IN_TABLET_ALUNO            181 non-null    int64  \n",
            " 15  QT_TABLET_ALUNO            181 non-null    int64  \n",
            " 16  IN_INTERNET                181 non-null    int64  \n",
            " 17  IN_INTERNET_ALUNOS         181 non-null    int64  \n",
            " 18  IN_INTERNET_APRENDIZAGEM   181 non-null    int64  \n",
            " 19  TP_REDE_LOCAL              181 non-null    int64  \n",
            " 20  IN_BANDA_LARGA             117 non-null    float64\n",
            " 21  IN_REGULAR                 181 non-null    int64  \n",
            " 22  QT_DOC_BAS                 180 non-null    float64\n",
            " 23  QT_TUR_BAS                 180 non-null    float64\n",
            " 24  QT_MAT_FUND_AI             180 non-null    float64\n",
            " 25  mat_maior_turno            180 non-null    float64\n",
            " 26  maior_turno                180 non-null    object \n",
            " 27  proxy_maior_turno          181 non-null    int64  \n",
            " 28  TCP_DOWN_MBPS              28 non-null     object \n",
            " 29  LAST_MEASURE2              28 non-null     object \n",
            " 30  n_disp_est                 181 non-null    int64  \n",
            " 31  est_por_disp               94 non-null     object \n",
            " 32  nivel_dispos               181 non-null    int64  \n",
            " 33  i_dispos                   181 non-null    int64  \n",
            " 34  vel_est                    28 non-null     object \n",
            " 35  i_conec_simet              28 non-null     float64\n",
            " 36  ano                        105 non-null    float64\n",
            " 37  Competência                105 non-null    float64\n",
            " 38  versao                     105 non-null    float64\n",
            " 39  base                       105 non-null    object \n",
            " 40  data_quest                 84 non-null     object \n",
            " 41  i_comp                     105 non-null    float64\n",
            " 42  soma_i                     105 non-null    float64\n",
            " 43  i_viab                     105 non-null    float64\n",
            " 44  tam_esc                    180 non-null    object \n",
            " 45  in_INF                     102 non-null    object \n",
            " 46  in_FUND_AI                 133 non-null    object \n",
            " 47  in_FUND_AF                 63 non-null     object \n",
            " 48  atend_etapas0              178 non-null    object \n",
            " 49  apoio_IEC                  0 non-null      float64\n",
            " 50  apoio_CIEB                 0 non-null      float64\n",
            " 51  assessoria_cieb0           0 non-null      float64\n",
            " 52  Destinação                 181 non-null    object \n",
            " 53  Vl Devido Custeio          181 non-null    object \n",
            " 54  Vl Devido Capital          181 non-null    object \n",
            " 55  Vl Devido Total            180 non-null    object \n",
            " 56  Vl Ajuste Custeio          181 non-null    object \n",
            " 57  Vl Ajuste Capital          181 non-null    object \n",
            " 58  Vl Ajuste Total            181 non-null    object \n",
            " 59  Vl Final Devido Total      179 non-null    object \n",
            " 60  Vl Pago Custeio            179 non-null    object \n",
            " 61  Vl Pago Capital            178 non-null    object \n",
            " 62  Valor Pago Total           178 non-null    object \n",
            " 63  Data Ord. Pgto             168 non-null    object \n",
            " 64  in_MED                     30 non-null     object \n",
            "dtypes: float64(15), int64(21), object(29)\n",
            "memory usage: 92.0+ KB\n"
          ]
        }
      ]
    },
    {
      "cell_type": "code",
      "source": [
        "df.describe()"
      ],
      "metadata": {
        "colab": {
          "base_uri": "https://localhost:8080/",
          "height": 394
        },
        "id": "Z6JNbokj6xa5",
        "outputId": "52ca4bf4-1b59-4924-b391-7010116016a6"
      },
      "execution_count": null,
      "outputs": [
        {
          "output_type": "execute_result",
          "data": {
            "text/plain": [
              "            CO_UF  CO_MUNICIPIO   CO_ENTIDADE  TP_DEPENDENCIA  TP_LOCALIZACAO  \\\n",
              "count  181.000000  1.810000e+02  1.810000e+02      181.000000      181.000000   \n",
              "mean    32.779006  3.282505e+06  3.287904e+07        2.756906        1.668508   \n",
              "std     13.172185  1.318293e+06  1.315163e+07        0.430141        0.472055   \n",
              "min     11.000000  1.100098e+06  1.102749e+07        2.000000        1.000000   \n",
              "25%     25.000000  2.501401e+06  2.510310e+07        3.000000        1.000000   \n",
              "50%     31.000000  3.106507e+06  3.126410e+07        3.000000        2.000000   \n",
              "75%     42.000000  4.205175e+06  4.208494e+07        3.000000        2.000000   \n",
              "max     52.000000  5.205307e+06  5.211280e+07        3.000000        2.000000   \n",
              "\n",
              "       TP_SITUACAO_FUNCIONAMENTO  IN_DESKTOP_ALUNO  QT_DESKTOP_ALUNO  \\\n",
              "count                      181.0        181.000000        181.000000   \n",
              "mean                         1.0          0.392265          3.314917   \n",
              "std                          0.0          0.489610          6.690395   \n",
              "min                          1.0          0.000000          0.000000   \n",
              "25%                          1.0          0.000000          0.000000   \n",
              "50%                          1.0          0.000000          0.000000   \n",
              "75%                          1.0          1.000000          4.000000   \n",
              "max                          1.0          1.000000         35.000000   \n",
              "\n",
              "       IN_COMP_PORTATIL_ALUNO  QT_COMP_PORTATIL_ALUNO  ...  i_conec_simet  \\\n",
              "count              181.000000              181.000000  ...           28.0   \n",
              "mean                 0.237569                2.071823  ...            0.0   \n",
              "std                  0.426774               14.098476  ...            0.0   \n",
              "min                  0.000000                0.000000  ...            0.0   \n",
              "25%                  0.000000                0.000000  ...            0.0   \n",
              "50%                  0.000000                0.000000  ...            0.0   \n",
              "75%                  0.000000                0.000000  ...            0.0   \n",
              "max                  1.000000              177.000000  ...            0.0   \n",
              "\n",
              "               ano  Competência      versao      i_comp      soma_i  \\\n",
              "count   105.000000   105.000000  105.000000  105.000000  105.000000   \n",
              "mean   2018.980952     1.933333    1.095238    0.238095    1.133333   \n",
              "std       0.650162     0.879977    0.427960    0.427960    0.809400   \n",
              "min    2018.000000     1.000000    1.000000    0.000000    0.000000   \n",
              "25%    2019.000000     1.000000    1.000000    0.000000    1.000000   \n",
              "50%    2019.000000     2.000000    1.000000    0.000000    1.000000   \n",
              "75%    2019.000000     2.000000    1.000000    0.000000    2.000000   \n",
              "max    2021.000000     4.000000    3.000000    1.000000    3.000000   \n",
              "\n",
              "           i_viab  apoio_IEC  apoio_CIEB  assessoria_cieb0  \n",
              "count  105.000000        0.0         0.0               0.0  \n",
              "mean     0.057143        NaN         NaN               NaN  \n",
              "std      0.233229        NaN         NaN               NaN  \n",
              "min      0.000000        NaN         NaN               NaN  \n",
              "25%      0.000000        NaN         NaN               NaN  \n",
              "50%      0.000000        NaN         NaN               NaN  \n",
              "75%      0.000000        NaN         NaN               NaN  \n",
              "max      1.000000        NaN         NaN               NaN  \n",
              "\n",
              "[8 rows x 36 columns]"
            ],
            "text/html": [
              "\n",
              "  <div id=\"df-5b228294-3d1d-436d-af15-4b6a55142e40\">\n",
              "    <div class=\"colab-df-container\">\n",
              "      <div>\n",
              "<style scoped>\n",
              "    .dataframe tbody tr th:only-of-type {\n",
              "        vertical-align: middle;\n",
              "    }\n",
              "\n",
              "    .dataframe tbody tr th {\n",
              "        vertical-align: top;\n",
              "    }\n",
              "\n",
              "    .dataframe thead th {\n",
              "        text-align: right;\n",
              "    }\n",
              "</style>\n",
              "<table border=\"1\" class=\"dataframe\">\n",
              "  <thead>\n",
              "    <tr style=\"text-align: right;\">\n",
              "      <th></th>\n",
              "      <th>CO_UF</th>\n",
              "      <th>CO_MUNICIPIO</th>\n",
              "      <th>CO_ENTIDADE</th>\n",
              "      <th>TP_DEPENDENCIA</th>\n",
              "      <th>TP_LOCALIZACAO</th>\n",
              "      <th>TP_SITUACAO_FUNCIONAMENTO</th>\n",
              "      <th>IN_DESKTOP_ALUNO</th>\n",
              "      <th>QT_DESKTOP_ALUNO</th>\n",
              "      <th>IN_COMP_PORTATIL_ALUNO</th>\n",
              "      <th>QT_COMP_PORTATIL_ALUNO</th>\n",
              "      <th>...</th>\n",
              "      <th>i_conec_simet</th>\n",
              "      <th>ano</th>\n",
              "      <th>Competência</th>\n",
              "      <th>versao</th>\n",
              "      <th>i_comp</th>\n",
              "      <th>soma_i</th>\n",
              "      <th>i_viab</th>\n",
              "      <th>apoio_IEC</th>\n",
              "      <th>apoio_CIEB</th>\n",
              "      <th>assessoria_cieb0</th>\n",
              "    </tr>\n",
              "  </thead>\n",
              "  <tbody>\n",
              "    <tr>\n",
              "      <th>count</th>\n",
              "      <td>181.000000</td>\n",
              "      <td>1.810000e+02</td>\n",
              "      <td>1.810000e+02</td>\n",
              "      <td>181.000000</td>\n",
              "      <td>181.000000</td>\n",
              "      <td>181.0</td>\n",
              "      <td>181.000000</td>\n",
              "      <td>181.000000</td>\n",
              "      <td>181.000000</td>\n",
              "      <td>181.000000</td>\n",
              "      <td>...</td>\n",
              "      <td>28.0</td>\n",
              "      <td>105.000000</td>\n",
              "      <td>105.000000</td>\n",
              "      <td>105.000000</td>\n",
              "      <td>105.000000</td>\n",
              "      <td>105.000000</td>\n",
              "      <td>105.000000</td>\n",
              "      <td>0.0</td>\n",
              "      <td>0.0</td>\n",
              "      <td>0.0</td>\n",
              "    </tr>\n",
              "    <tr>\n",
              "      <th>mean</th>\n",
              "      <td>32.779006</td>\n",
              "      <td>3.282505e+06</td>\n",
              "      <td>3.287904e+07</td>\n",
              "      <td>2.756906</td>\n",
              "      <td>1.668508</td>\n",
              "      <td>1.0</td>\n",
              "      <td>0.392265</td>\n",
              "      <td>3.314917</td>\n",
              "      <td>0.237569</td>\n",
              "      <td>2.071823</td>\n",
              "      <td>...</td>\n",
              "      <td>0.0</td>\n",
              "      <td>2018.980952</td>\n",
              "      <td>1.933333</td>\n",
              "      <td>1.095238</td>\n",
              "      <td>0.238095</td>\n",
              "      <td>1.133333</td>\n",
              "      <td>0.057143</td>\n",
              "      <td>NaN</td>\n",
              "      <td>NaN</td>\n",
              "      <td>NaN</td>\n",
              "    </tr>\n",
              "    <tr>\n",
              "      <th>std</th>\n",
              "      <td>13.172185</td>\n",
              "      <td>1.318293e+06</td>\n",
              "      <td>1.315163e+07</td>\n",
              "      <td>0.430141</td>\n",
              "      <td>0.472055</td>\n",
              "      <td>0.0</td>\n",
              "      <td>0.489610</td>\n",
              "      <td>6.690395</td>\n",
              "      <td>0.426774</td>\n",
              "      <td>14.098476</td>\n",
              "      <td>...</td>\n",
              "      <td>0.0</td>\n",
              "      <td>0.650162</td>\n",
              "      <td>0.879977</td>\n",
              "      <td>0.427960</td>\n",
              "      <td>0.427960</td>\n",
              "      <td>0.809400</td>\n",
              "      <td>0.233229</td>\n",
              "      <td>NaN</td>\n",
              "      <td>NaN</td>\n",
              "      <td>NaN</td>\n",
              "    </tr>\n",
              "    <tr>\n",
              "      <th>min</th>\n",
              "      <td>11.000000</td>\n",
              "      <td>1.100098e+06</td>\n",
              "      <td>1.102749e+07</td>\n",
              "      <td>2.000000</td>\n",
              "      <td>1.000000</td>\n",
              "      <td>1.0</td>\n",
              "      <td>0.000000</td>\n",
              "      <td>0.000000</td>\n",
              "      <td>0.000000</td>\n",
              "      <td>0.000000</td>\n",
              "      <td>...</td>\n",
              "      <td>0.0</td>\n",
              "      <td>2018.000000</td>\n",
              "      <td>1.000000</td>\n",
              "      <td>1.000000</td>\n",
              "      <td>0.000000</td>\n",
              "      <td>0.000000</td>\n",
              "      <td>0.000000</td>\n",
              "      <td>NaN</td>\n",
              "      <td>NaN</td>\n",
              "      <td>NaN</td>\n",
              "    </tr>\n",
              "    <tr>\n",
              "      <th>25%</th>\n",
              "      <td>25.000000</td>\n",
              "      <td>2.501401e+06</td>\n",
              "      <td>2.510310e+07</td>\n",
              "      <td>3.000000</td>\n",
              "      <td>1.000000</td>\n",
              "      <td>1.0</td>\n",
              "      <td>0.000000</td>\n",
              "      <td>0.000000</td>\n",
              "      <td>0.000000</td>\n",
              "      <td>0.000000</td>\n",
              "      <td>...</td>\n",
              "      <td>0.0</td>\n",
              "      <td>2019.000000</td>\n",
              "      <td>1.000000</td>\n",
              "      <td>1.000000</td>\n",
              "      <td>0.000000</td>\n",
              "      <td>1.000000</td>\n",
              "      <td>0.000000</td>\n",
              "      <td>NaN</td>\n",
              "      <td>NaN</td>\n",
              "      <td>NaN</td>\n",
              "    </tr>\n",
              "    <tr>\n",
              "      <th>50%</th>\n",
              "      <td>31.000000</td>\n",
              "      <td>3.106507e+06</td>\n",
              "      <td>3.126410e+07</td>\n",
              "      <td>3.000000</td>\n",
              "      <td>2.000000</td>\n",
              "      <td>1.0</td>\n",
              "      <td>0.000000</td>\n",
              "      <td>0.000000</td>\n",
              "      <td>0.000000</td>\n",
              "      <td>0.000000</td>\n",
              "      <td>...</td>\n",
              "      <td>0.0</td>\n",
              "      <td>2019.000000</td>\n",
              "      <td>2.000000</td>\n",
              "      <td>1.000000</td>\n",
              "      <td>0.000000</td>\n",
              "      <td>1.000000</td>\n",
              "      <td>0.000000</td>\n",
              "      <td>NaN</td>\n",
              "      <td>NaN</td>\n",
              "      <td>NaN</td>\n",
              "    </tr>\n",
              "    <tr>\n",
              "      <th>75%</th>\n",
              "      <td>42.000000</td>\n",
              "      <td>4.205175e+06</td>\n",
              "      <td>4.208494e+07</td>\n",
              "      <td>3.000000</td>\n",
              "      <td>2.000000</td>\n",
              "      <td>1.0</td>\n",
              "      <td>1.000000</td>\n",
              "      <td>4.000000</td>\n",
              "      <td>0.000000</td>\n",
              "      <td>0.000000</td>\n",
              "      <td>...</td>\n",
              "      <td>0.0</td>\n",
              "      <td>2019.000000</td>\n",
              "      <td>2.000000</td>\n",
              "      <td>1.000000</td>\n",
              "      <td>0.000000</td>\n",
              "      <td>2.000000</td>\n",
              "      <td>0.000000</td>\n",
              "      <td>NaN</td>\n",
              "      <td>NaN</td>\n",
              "      <td>NaN</td>\n",
              "    </tr>\n",
              "    <tr>\n",
              "      <th>max</th>\n",
              "      <td>52.000000</td>\n",
              "      <td>5.205307e+06</td>\n",
              "      <td>5.211280e+07</td>\n",
              "      <td>3.000000</td>\n",
              "      <td>2.000000</td>\n",
              "      <td>1.0</td>\n",
              "      <td>1.000000</td>\n",
              "      <td>35.000000</td>\n",
              "      <td>1.000000</td>\n",
              "      <td>177.000000</td>\n",
              "      <td>...</td>\n",
              "      <td>0.0</td>\n",
              "      <td>2021.000000</td>\n",
              "      <td>4.000000</td>\n",
              "      <td>3.000000</td>\n",
              "      <td>1.000000</td>\n",
              "      <td>3.000000</td>\n",
              "      <td>1.000000</td>\n",
              "      <td>NaN</td>\n",
              "      <td>NaN</td>\n",
              "      <td>NaN</td>\n",
              "    </tr>\n",
              "  </tbody>\n",
              "</table>\n",
              "<p>8 rows × 36 columns</p>\n",
              "</div>\n",
              "      <button class=\"colab-df-convert\" onclick=\"convertToInteractive('df-5b228294-3d1d-436d-af15-4b6a55142e40')\"\n",
              "              title=\"Convert this dataframe to an interactive table.\"\n",
              "              style=\"display:none;\">\n",
              "        \n",
              "  <svg xmlns=\"http://www.w3.org/2000/svg\" height=\"24px\"viewBox=\"0 0 24 24\"\n",
              "       width=\"24px\">\n",
              "    <path d=\"M0 0h24v24H0V0z\" fill=\"none\"/>\n",
              "    <path d=\"M18.56 5.44l.94 2.06.94-2.06 2.06-.94-2.06-.94-.94-2.06-.94 2.06-2.06.94zm-11 1L8.5 8.5l.94-2.06 2.06-.94-2.06-.94L8.5 2.5l-.94 2.06-2.06.94zm10 10l.94 2.06.94-2.06 2.06-.94-2.06-.94-.94-2.06-.94 2.06-2.06.94z\"/><path d=\"M17.41 7.96l-1.37-1.37c-.4-.4-.92-.59-1.43-.59-.52 0-1.04.2-1.43.59L10.3 9.45l-7.72 7.72c-.78.78-.78 2.05 0 2.83L4 21.41c.39.39.9.59 1.41.59.51 0 1.02-.2 1.41-.59l7.78-7.78 2.81-2.81c.8-.78.8-2.07 0-2.86zM5.41 20L4 18.59l7.72-7.72 1.47 1.35L5.41 20z\"/>\n",
              "  </svg>\n",
              "      </button>\n",
              "      \n",
              "  <style>\n",
              "    .colab-df-container {\n",
              "      display:flex;\n",
              "      flex-wrap:wrap;\n",
              "      gap: 12px;\n",
              "    }\n",
              "\n",
              "    .colab-df-convert {\n",
              "      background-color: #E8F0FE;\n",
              "      border: none;\n",
              "      border-radius: 50%;\n",
              "      cursor: pointer;\n",
              "      display: none;\n",
              "      fill: #1967D2;\n",
              "      height: 32px;\n",
              "      padding: 0 0 0 0;\n",
              "      width: 32px;\n",
              "    }\n",
              "\n",
              "    .colab-df-convert:hover {\n",
              "      background-color: #E2EBFA;\n",
              "      box-shadow: 0px 1px 2px rgba(60, 64, 67, 0.3), 0px 1px 3px 1px rgba(60, 64, 67, 0.15);\n",
              "      fill: #174EA6;\n",
              "    }\n",
              "\n",
              "    [theme=dark] .colab-df-convert {\n",
              "      background-color: #3B4455;\n",
              "      fill: #D2E3FC;\n",
              "    }\n",
              "\n",
              "    [theme=dark] .colab-df-convert:hover {\n",
              "      background-color: #434B5C;\n",
              "      box-shadow: 0px 1px 3px 1px rgba(0, 0, 0, 0.15);\n",
              "      filter: drop-shadow(0px 1px 2px rgba(0, 0, 0, 0.3));\n",
              "      fill: #FFFFFF;\n",
              "    }\n",
              "  </style>\n",
              "\n",
              "      <script>\n",
              "        const buttonEl =\n",
              "          document.querySelector('#df-5b228294-3d1d-436d-af15-4b6a55142e40 button.colab-df-convert');\n",
              "        buttonEl.style.display =\n",
              "          google.colab.kernel.accessAllowed ? 'block' : 'none';\n",
              "\n",
              "        async function convertToInteractive(key) {\n",
              "          const element = document.querySelector('#df-5b228294-3d1d-436d-af15-4b6a55142e40');\n",
              "          const dataTable =\n",
              "            await google.colab.kernel.invokeFunction('convertToInteractive',\n",
              "                                                     [key], {});\n",
              "          if (!dataTable) return;\n",
              "\n",
              "          const docLinkHtml = 'Like what you see? Visit the ' +\n",
              "            '<a target=\"_blank\" href=https://colab.research.google.com/notebooks/data_table.ipynb>data table notebook</a>'\n",
              "            + ' to learn more about interactive tables.';\n",
              "          element.innerHTML = '';\n",
              "          dataTable['output_type'] = 'display_data';\n",
              "          await google.colab.output.renderOutput(dataTable, element);\n",
              "          const docLink = document.createElement('div');\n",
              "          docLink.innerHTML = docLinkHtml;\n",
              "          element.appendChild(docLink);\n",
              "        }\n",
              "      </script>\n",
              "    </div>\n",
              "  </div>\n",
              "  "
            ]
          },
          "metadata": {},
          "execution_count": 8
        }
      ]
    },
    {
      "cell_type": "code",
      "source": [
        "df[df.index.duplicated()]"
      ],
      "metadata": {
        "colab": {
          "base_uri": "https://localhost:8080/",
          "height": 195
        },
        "id": "PmwR9m209xTg",
        "outputId": "7c784eed-aa3e-4cc9-9508-d04f847d9896"
      },
      "execution_count": null,
      "outputs": [
        {
          "output_type": "execute_result",
          "data": {
            "text/plain": [
              "Empty DataFrame\n",
              "Columns: [NO_UF, SG_UF, CO_UF, NO_MUNICIPIO, CO_MUNICIPIO, CO_ENTIDADE, TP_DEPENDENCIA, REDE, TP_LOCALIZACAO, TP_SITUACAO_FUNCIONAMENTO, IN_DESKTOP_ALUNO, QT_DESKTOP_ALUNO, IN_COMP_PORTATIL_ALUNO, QT_COMP_PORTATIL_ALUNO, IN_TABLET_ALUNO, QT_TABLET_ALUNO, IN_INTERNET, IN_INTERNET_ALUNOS, IN_INTERNET_APRENDIZAGEM, TP_REDE_LOCAL, IN_BANDA_LARGA, IN_REGULAR, QT_DOC_BAS, QT_TUR_BAS, QT_MAT_FUND_AI, mat_maior_turno, maior_turno, proxy_maior_turno, TCP_DOWN_MBPS, LAST_MEASURE2, n_disp_est, est_por_disp, nivel_dispos, i_dispos, vel_est, i_conec_simet, ano, Competência, versao, base, data_quest, i_comp, soma_i, i_viab, tam_esc, in_INF, in_FUND_AI, in_FUND_AF, atend_etapas0, apoio_IEC, apoio_CIEB, assessoria_cieb0, Destinação, Vl Devido Custeio, Vl Devido Capital, Vl Devido Total, Vl Ajuste Custeio, Vl Ajuste Capital, Vl Ajuste Total, Vl Final Devido Total, Vl Pago Custeio, Vl Pago Capital, Valor Pago Total, Data Ord. Pgto, in_MED]\n",
              "Index: []\n",
              "\n",
              "[0 rows x 65 columns]"
            ],
            "text/html": [
              "\n",
              "  <div id=\"df-7b8d3a6f-7d7f-4363-9ed5-2a200ecbd3fa\">\n",
              "    <div class=\"colab-df-container\">\n",
              "      <div>\n",
              "<style scoped>\n",
              "    .dataframe tbody tr th:only-of-type {\n",
              "        vertical-align: middle;\n",
              "    }\n",
              "\n",
              "    .dataframe tbody tr th {\n",
              "        vertical-align: top;\n",
              "    }\n",
              "\n",
              "    .dataframe thead th {\n",
              "        text-align: right;\n",
              "    }\n",
              "</style>\n",
              "<table border=\"1\" class=\"dataframe\">\n",
              "  <thead>\n",
              "    <tr style=\"text-align: right;\">\n",
              "      <th></th>\n",
              "      <th>NO_UF</th>\n",
              "      <th>SG_UF</th>\n",
              "      <th>CO_UF</th>\n",
              "      <th>NO_MUNICIPIO</th>\n",
              "      <th>CO_MUNICIPIO</th>\n",
              "      <th>CO_ENTIDADE</th>\n",
              "      <th>TP_DEPENDENCIA</th>\n",
              "      <th>REDE</th>\n",
              "      <th>TP_LOCALIZACAO</th>\n",
              "      <th>TP_SITUACAO_FUNCIONAMENTO</th>\n",
              "      <th>...</th>\n",
              "      <th>Vl Devido Total</th>\n",
              "      <th>Vl Ajuste Custeio</th>\n",
              "      <th>Vl Ajuste Capital</th>\n",
              "      <th>Vl Ajuste Total</th>\n",
              "      <th>Vl Final Devido Total</th>\n",
              "      <th>Vl Pago Custeio</th>\n",
              "      <th>Vl Pago Capital</th>\n",
              "      <th>Valor Pago Total</th>\n",
              "      <th>Data Ord. Pgto</th>\n",
              "      <th>in_MED</th>\n",
              "    </tr>\n",
              "  </thead>\n",
              "  <tbody>\n",
              "  </tbody>\n",
              "</table>\n",
              "<p>0 rows × 65 columns</p>\n",
              "</div>\n",
              "      <button class=\"colab-df-convert\" onclick=\"convertToInteractive('df-7b8d3a6f-7d7f-4363-9ed5-2a200ecbd3fa')\"\n",
              "              title=\"Convert this dataframe to an interactive table.\"\n",
              "              style=\"display:none;\">\n",
              "        \n",
              "  <svg xmlns=\"http://www.w3.org/2000/svg\" height=\"24px\"viewBox=\"0 0 24 24\"\n",
              "       width=\"24px\">\n",
              "    <path d=\"M0 0h24v24H0V0z\" fill=\"none\"/>\n",
              "    <path d=\"M18.56 5.44l.94 2.06.94-2.06 2.06-.94-2.06-.94-.94-2.06-.94 2.06-2.06.94zm-11 1L8.5 8.5l.94-2.06 2.06-.94-2.06-.94L8.5 2.5l-.94 2.06-2.06.94zm10 10l.94 2.06.94-2.06 2.06-.94-2.06-.94-.94-2.06-.94 2.06-2.06.94z\"/><path d=\"M17.41 7.96l-1.37-1.37c-.4-.4-.92-.59-1.43-.59-.52 0-1.04.2-1.43.59L10.3 9.45l-7.72 7.72c-.78.78-.78 2.05 0 2.83L4 21.41c.39.39.9.59 1.41.59.51 0 1.02-.2 1.41-.59l7.78-7.78 2.81-2.81c.8-.78.8-2.07 0-2.86zM5.41 20L4 18.59l7.72-7.72 1.47 1.35L5.41 20z\"/>\n",
              "  </svg>\n",
              "      </button>\n",
              "      \n",
              "  <style>\n",
              "    .colab-df-container {\n",
              "      display:flex;\n",
              "      flex-wrap:wrap;\n",
              "      gap: 12px;\n",
              "    }\n",
              "\n",
              "    .colab-df-convert {\n",
              "      background-color: #E8F0FE;\n",
              "      border: none;\n",
              "      border-radius: 50%;\n",
              "      cursor: pointer;\n",
              "      display: none;\n",
              "      fill: #1967D2;\n",
              "      height: 32px;\n",
              "      padding: 0 0 0 0;\n",
              "      width: 32px;\n",
              "    }\n",
              "\n",
              "    .colab-df-convert:hover {\n",
              "      background-color: #E2EBFA;\n",
              "      box-shadow: 0px 1px 2px rgba(60, 64, 67, 0.3), 0px 1px 3px 1px rgba(60, 64, 67, 0.15);\n",
              "      fill: #174EA6;\n",
              "    }\n",
              "\n",
              "    [theme=dark] .colab-df-convert {\n",
              "      background-color: #3B4455;\n",
              "      fill: #D2E3FC;\n",
              "    }\n",
              "\n",
              "    [theme=dark] .colab-df-convert:hover {\n",
              "      background-color: #434B5C;\n",
              "      box-shadow: 0px 1px 3px 1px rgba(0, 0, 0, 0.15);\n",
              "      filter: drop-shadow(0px 1px 2px rgba(0, 0, 0, 0.3));\n",
              "      fill: #FFFFFF;\n",
              "    }\n",
              "  </style>\n",
              "\n",
              "      <script>\n",
              "        const buttonEl =\n",
              "          document.querySelector('#df-7b8d3a6f-7d7f-4363-9ed5-2a200ecbd3fa button.colab-df-convert');\n",
              "        buttonEl.style.display =\n",
              "          google.colab.kernel.accessAllowed ? 'block' : 'none';\n",
              "\n",
              "        async function convertToInteractive(key) {\n",
              "          const element = document.querySelector('#df-7b8d3a6f-7d7f-4363-9ed5-2a200ecbd3fa');\n",
              "          const dataTable =\n",
              "            await google.colab.kernel.invokeFunction('convertToInteractive',\n",
              "                                                     [key], {});\n",
              "          if (!dataTable) return;\n",
              "\n",
              "          const docLinkHtml = 'Like what you see? Visit the ' +\n",
              "            '<a target=\"_blank\" href=https://colab.research.google.com/notebooks/data_table.ipynb>data table notebook</a>'\n",
              "            + ' to learn more about interactive tables.';\n",
              "          element.innerHTML = '';\n",
              "          dataTable['output_type'] = 'display_data';\n",
              "          await google.colab.output.renderOutput(dataTable, element);\n",
              "          const docLink = document.createElement('div');\n",
              "          docLink.innerHTML = docLinkHtml;\n",
              "          element.appendChild(docLink);\n",
              "        }\n",
              "      </script>\n",
              "    </div>\n",
              "  </div>\n",
              "  "
            ]
          },
          "metadata": {},
          "execution_count": 9
        }
      ]
    },
    {
      "cell_type": "code",
      "source": [
        "df.head(3)"
      ],
      "metadata": {
        "colab": {
          "base_uri": "https://localhost:8080/",
          "height": 289
        },
        "id": "uTOmM5VL90eX",
        "outputId": "09dc7406-901f-4125-bc4e-28b06c16dd2f"
      },
      "execution_count": null,
      "outputs": [
        {
          "output_type": "execute_result",
          "data": {
            "text/plain": [
              "  NO_UF SG_UF  CO_UF NO_MUNICIPIO  CO_MUNICIPIO  CO_ENTIDADE  TP_DEPENDENCIA  \\\n",
              "0  Pará    PA     15   Pau D'Arco       1505551     15130959               3   \n",
              "1  Pará    PA     15   Pau D'Arco       1505551     15131572               2   \n",
              "2  Pará    PA     15   Pau D'Arco       1505551     15160467               3   \n",
              "\n",
              "        REDE  TP_LOCALIZACAO  TP_SITUACAO_FUNCIONAMENTO  ...  Vl Devido Total  \\\n",
              "0  Municipal               2                          1  ...         2.451,00   \n",
              "1   Estadual               1                          1  ...         3.328,00   \n",
              "2  Municipal               2                          1  ...                -   \n",
              "\n",
              "   Vl Ajuste Custeio  Vl Ajuste Capital  Vl Ajuste Total  \\\n",
              "0                  0                  0                0   \n",
              "1                  0                  0                0   \n",
              "2                  -                  -                -   \n",
              "\n",
              "   Vl Final Devido Total  Vl Pago Custeio  Vl Pago Capital  Valor Pago Total  \\\n",
              "0               2.451,00         1.560,01           890,99          2.451,00   \n",
              "1               3.328,00                0                0                 0   \n",
              "2                      -                -                -                 -   \n",
              "\n",
              "   Data Ord. Pgto  in_MED  \n",
              "0      13/10/2021     NaN  \n",
              "1             NaN      EM  \n",
              "2               -     NaN  \n",
              "\n",
              "[3 rows x 65 columns]"
            ],
            "text/html": [
              "\n",
              "  <div id=\"df-f4150ce9-ae0a-47d1-8ae5-55adcc5d5042\">\n",
              "    <div class=\"colab-df-container\">\n",
              "      <div>\n",
              "<style scoped>\n",
              "    .dataframe tbody tr th:only-of-type {\n",
              "        vertical-align: middle;\n",
              "    }\n",
              "\n",
              "    .dataframe tbody tr th {\n",
              "        vertical-align: top;\n",
              "    }\n",
              "\n",
              "    .dataframe thead th {\n",
              "        text-align: right;\n",
              "    }\n",
              "</style>\n",
              "<table border=\"1\" class=\"dataframe\">\n",
              "  <thead>\n",
              "    <tr style=\"text-align: right;\">\n",
              "      <th></th>\n",
              "      <th>NO_UF</th>\n",
              "      <th>SG_UF</th>\n",
              "      <th>CO_UF</th>\n",
              "      <th>NO_MUNICIPIO</th>\n",
              "      <th>CO_MUNICIPIO</th>\n",
              "      <th>CO_ENTIDADE</th>\n",
              "      <th>TP_DEPENDENCIA</th>\n",
              "      <th>REDE</th>\n",
              "      <th>TP_LOCALIZACAO</th>\n",
              "      <th>TP_SITUACAO_FUNCIONAMENTO</th>\n",
              "      <th>...</th>\n",
              "      <th>Vl Devido Total</th>\n",
              "      <th>Vl Ajuste Custeio</th>\n",
              "      <th>Vl Ajuste Capital</th>\n",
              "      <th>Vl Ajuste Total</th>\n",
              "      <th>Vl Final Devido Total</th>\n",
              "      <th>Vl Pago Custeio</th>\n",
              "      <th>Vl Pago Capital</th>\n",
              "      <th>Valor Pago Total</th>\n",
              "      <th>Data Ord. Pgto</th>\n",
              "      <th>in_MED</th>\n",
              "    </tr>\n",
              "  </thead>\n",
              "  <tbody>\n",
              "    <tr>\n",
              "      <th>0</th>\n",
              "      <td>Pará</td>\n",
              "      <td>PA</td>\n",
              "      <td>15</td>\n",
              "      <td>Pau D'Arco</td>\n",
              "      <td>1505551</td>\n",
              "      <td>15130959</td>\n",
              "      <td>3</td>\n",
              "      <td>Municipal</td>\n",
              "      <td>2</td>\n",
              "      <td>1</td>\n",
              "      <td>...</td>\n",
              "      <td>2.451,00</td>\n",
              "      <td>0</td>\n",
              "      <td>0</td>\n",
              "      <td>0</td>\n",
              "      <td>2.451,00</td>\n",
              "      <td>1.560,01</td>\n",
              "      <td>890,99</td>\n",
              "      <td>2.451,00</td>\n",
              "      <td>13/10/2021</td>\n",
              "      <td>NaN</td>\n",
              "    </tr>\n",
              "    <tr>\n",
              "      <th>1</th>\n",
              "      <td>Pará</td>\n",
              "      <td>PA</td>\n",
              "      <td>15</td>\n",
              "      <td>Pau D'Arco</td>\n",
              "      <td>1505551</td>\n",
              "      <td>15131572</td>\n",
              "      <td>2</td>\n",
              "      <td>Estadual</td>\n",
              "      <td>1</td>\n",
              "      <td>1</td>\n",
              "      <td>...</td>\n",
              "      <td>3.328,00</td>\n",
              "      <td>0</td>\n",
              "      <td>0</td>\n",
              "      <td>0</td>\n",
              "      <td>3.328,00</td>\n",
              "      <td>0</td>\n",
              "      <td>0</td>\n",
              "      <td>0</td>\n",
              "      <td>NaN</td>\n",
              "      <td>EM</td>\n",
              "    </tr>\n",
              "    <tr>\n",
              "      <th>2</th>\n",
              "      <td>Pará</td>\n",
              "      <td>PA</td>\n",
              "      <td>15</td>\n",
              "      <td>Pau D'Arco</td>\n",
              "      <td>1505551</td>\n",
              "      <td>15160467</td>\n",
              "      <td>3</td>\n",
              "      <td>Municipal</td>\n",
              "      <td>2</td>\n",
              "      <td>1</td>\n",
              "      <td>...</td>\n",
              "      <td>-</td>\n",
              "      <td>-</td>\n",
              "      <td>-</td>\n",
              "      <td>-</td>\n",
              "      <td>-</td>\n",
              "      <td>-</td>\n",
              "      <td>-</td>\n",
              "      <td>-</td>\n",
              "      <td>-</td>\n",
              "      <td>NaN</td>\n",
              "    </tr>\n",
              "  </tbody>\n",
              "</table>\n",
              "<p>3 rows × 65 columns</p>\n",
              "</div>\n",
              "      <button class=\"colab-df-convert\" onclick=\"convertToInteractive('df-f4150ce9-ae0a-47d1-8ae5-55adcc5d5042')\"\n",
              "              title=\"Convert this dataframe to an interactive table.\"\n",
              "              style=\"display:none;\">\n",
              "        \n",
              "  <svg xmlns=\"http://www.w3.org/2000/svg\" height=\"24px\"viewBox=\"0 0 24 24\"\n",
              "       width=\"24px\">\n",
              "    <path d=\"M0 0h24v24H0V0z\" fill=\"none\"/>\n",
              "    <path d=\"M18.56 5.44l.94 2.06.94-2.06 2.06-.94-2.06-.94-.94-2.06-.94 2.06-2.06.94zm-11 1L8.5 8.5l.94-2.06 2.06-.94-2.06-.94L8.5 2.5l-.94 2.06-2.06.94zm10 10l.94 2.06.94-2.06 2.06-.94-2.06-.94-.94-2.06-.94 2.06-2.06.94z\"/><path d=\"M17.41 7.96l-1.37-1.37c-.4-.4-.92-.59-1.43-.59-.52 0-1.04.2-1.43.59L10.3 9.45l-7.72 7.72c-.78.78-.78 2.05 0 2.83L4 21.41c.39.39.9.59 1.41.59.51 0 1.02-.2 1.41-.59l7.78-7.78 2.81-2.81c.8-.78.8-2.07 0-2.86zM5.41 20L4 18.59l7.72-7.72 1.47 1.35L5.41 20z\"/>\n",
              "  </svg>\n",
              "      </button>\n",
              "      \n",
              "  <style>\n",
              "    .colab-df-container {\n",
              "      display:flex;\n",
              "      flex-wrap:wrap;\n",
              "      gap: 12px;\n",
              "    }\n",
              "\n",
              "    .colab-df-convert {\n",
              "      background-color: #E8F0FE;\n",
              "      border: none;\n",
              "      border-radius: 50%;\n",
              "      cursor: pointer;\n",
              "      display: none;\n",
              "      fill: #1967D2;\n",
              "      height: 32px;\n",
              "      padding: 0 0 0 0;\n",
              "      width: 32px;\n",
              "    }\n",
              "\n",
              "    .colab-df-convert:hover {\n",
              "      background-color: #E2EBFA;\n",
              "      box-shadow: 0px 1px 2px rgba(60, 64, 67, 0.3), 0px 1px 3px 1px rgba(60, 64, 67, 0.15);\n",
              "      fill: #174EA6;\n",
              "    }\n",
              "\n",
              "    [theme=dark] .colab-df-convert {\n",
              "      background-color: #3B4455;\n",
              "      fill: #D2E3FC;\n",
              "    }\n",
              "\n",
              "    [theme=dark] .colab-df-convert:hover {\n",
              "      background-color: #434B5C;\n",
              "      box-shadow: 0px 1px 3px 1px rgba(0, 0, 0, 0.15);\n",
              "      filter: drop-shadow(0px 1px 2px rgba(0, 0, 0, 0.3));\n",
              "      fill: #FFFFFF;\n",
              "    }\n",
              "  </style>\n",
              "\n",
              "      <script>\n",
              "        const buttonEl =\n",
              "          document.querySelector('#df-f4150ce9-ae0a-47d1-8ae5-55adcc5d5042 button.colab-df-convert');\n",
              "        buttonEl.style.display =\n",
              "          google.colab.kernel.accessAllowed ? 'block' : 'none';\n",
              "\n",
              "        async function convertToInteractive(key) {\n",
              "          const element = document.querySelector('#df-f4150ce9-ae0a-47d1-8ae5-55adcc5d5042');\n",
              "          const dataTable =\n",
              "            await google.colab.kernel.invokeFunction('convertToInteractive',\n",
              "                                                     [key], {});\n",
              "          if (!dataTable) return;\n",
              "\n",
              "          const docLinkHtml = 'Like what you see? Visit the ' +\n",
              "            '<a target=\"_blank\" href=https://colab.research.google.com/notebooks/data_table.ipynb>data table notebook</a>'\n",
              "            + ' to learn more about interactive tables.';\n",
              "          element.innerHTML = '';\n",
              "          dataTable['output_type'] = 'display_data';\n",
              "          await google.colab.output.renderOutput(dataTable, element);\n",
              "          const docLink = document.createElement('div');\n",
              "          docLink.innerHTML = docLinkHtml;\n",
              "          element.appendChild(docLink);\n",
              "        }\n",
              "      </script>\n",
              "    </div>\n",
              "  </div>\n",
              "  "
            ]
          },
          "metadata": {},
          "execution_count": 10
        }
      ]
    },
    {
      "cell_type": "code",
      "source": [
        "print(\"Single column value using dataframe.dot\")\n",
        "print(df.nivel_dispos)\n"
      ],
      "metadata": {
        "colab": {
          "base_uri": "https://localhost:8080/"
        },
        "id": "tBxiyOqt_IY9",
        "outputId": "c4570b2b-1e1b-41f8-bc03-6f65b207e7fe"
      },
      "execution_count": null,
      "outputs": [
        {
          "output_type": "stream",
          "name": "stdout",
          "text": [
            "Single column value using dataframe.dot\n",
            "0      1\n",
            "1      2\n",
            "2      1\n",
            "3      1\n",
            "4      1\n",
            "      ..\n",
            "176    3\n",
            "177    1\n",
            "178    1\n",
            "179    1\n",
            "180    1\n",
            "Name: nivel_dispos, Length: 181, dtype: int64\n"
          ]
        }
      ]
    },
    {
      "cell_type": "code",
      "source": [
        "len(df[df['nivel_dispos'] == 1])"
      ],
      "metadata": {
        "colab": {
          "base_uri": "https://localhost:8080/"
        },
        "id": "XltxVW8E_1A8",
        "outputId": "24fb9696-1ae0-4152-98a6-9c81a51434f7"
      },
      "execution_count": null,
      "outputs": [
        {
          "output_type": "execute_result",
          "data": {
            "text/plain": [
              "144"
            ]
          },
          "metadata": {},
          "execution_count": 12
        }
      ]
    },
    {
      "cell_type": "markdown",
      "source": [
        "144 escolas no nível emergente de dispositivos"
      ],
      "metadata": {
        "id": "8oHQRW_k_779"
      }
    },
    {
      "cell_type": "code",
      "source": [
        "len(df[df['nivel_dispos'] == 2])"
      ],
      "metadata": {
        "colab": {
          "base_uri": "https://localhost:8080/"
        },
        "id": "phCc3oyK__ty",
        "outputId": "3704a657-14fe-4730-f1c6-0b5b042acef2"
      },
      "execution_count": null,
      "outputs": [
        {
          "output_type": "execute_result",
          "data": {
            "text/plain": [
              "13"
            ]
          },
          "metadata": {},
          "execution_count": 13
        }
      ]
    },
    {
      "cell_type": "markdown",
      "source": [
        "13 escolas no nível básico"
      ],
      "metadata": {
        "id": "0KoxOoFMAEOM"
      }
    },
    {
      "cell_type": "code",
      "source": [
        "len(df[df['nivel_dispos'] == 3])"
      ],
      "metadata": {
        "colab": {
          "base_uri": "https://localhost:8080/"
        },
        "id": "J87lWx29ADHG",
        "outputId": "927fa549-d1f0-4732-b470-76c8fef93749"
      },
      "execution_count": null,
      "outputs": [
        {
          "output_type": "execute_result",
          "data": {
            "text/plain": [
              "17"
            ]
          },
          "metadata": {},
          "execution_count": 14
        }
      ]
    },
    {
      "cell_type": "markdown",
      "source": [
        "17 escolas no nível intermediário"
      ],
      "metadata": {
        "id": "FSelDD5YALIR"
      }
    },
    {
      "cell_type": "code",
      "source": [
        "len(df[df['nivel_dispos'] == 4])"
      ],
      "metadata": {
        "colab": {
          "base_uri": "https://localhost:8080/"
        },
        "id": "nSfNjn2AAP7U",
        "outputId": "39bc95a6-f1a0-4b04-8664-1e353f519253"
      },
      "execution_count": null,
      "outputs": [
        {
          "output_type": "execute_result",
          "data": {
            "text/plain": [
              "7"
            ]
          },
          "metadata": {},
          "execution_count": 15
        }
      ]
    },
    {
      "cell_type": "markdown",
      "source": [
        "7 escolas no nível avançado\n",
        "\n",
        "24 escolas com pelo menos 5 estudantes por dispositivos\n",
        "\n",
        "13,2% do total"
      ],
      "metadata": {
        "id": "sa0iK_MlAWPA"
      }
    },
    {
      "cell_type": "code",
      "source": [
        "df.isnull().sum()"
      ],
      "metadata": {
        "colab": {
          "base_uri": "https://localhost:8080/"
        },
        "id": "M692PlR3AUxL",
        "outputId": "4b4d99f2-8cc9-4122-9dd9-0bed78018214"
      },
      "execution_count": null,
      "outputs": [
        {
          "output_type": "execute_result",
          "data": {
            "text/plain": [
              "NO_UF                 0\n",
              "SG_UF                 0\n",
              "CO_UF                 0\n",
              "NO_MUNICIPIO          0\n",
              "CO_MUNICIPIO          0\n",
              "                   ... \n",
              "Vl Pago Custeio       2\n",
              "Vl Pago Capital       3\n",
              "Valor Pago Total      3\n",
              "Data Ord. Pgto       13\n",
              "in_MED              151\n",
              "Length: 65, dtype: int64"
            ]
          },
          "metadata": {},
          "execution_count": 16
        }
      ]
    },
    {
      "cell_type": "code",
      "source": [
        "len(df[df['Data Ord. Pgto'] == '-'])"
      ],
      "metadata": {
        "colab": {
          "base_uri": "https://localhost:8080/"
        },
        "id": "nrwTXi_tBY5k",
        "outputId": "07da002c-d887-428b-fa2f-8c03e92a9d61"
      },
      "execution_count": null,
      "outputs": [
        {
          "output_type": "execute_result",
          "data": {
            "text/plain": [
              "100"
            ]
          },
          "metadata": {},
          "execution_count": 17
        }
      ]
    },
    {
      "cell_type": "code",
      "source": [
        "df['Data Ord. Pgto'].unique()"
      ],
      "metadata": {
        "colab": {
          "base_uri": "https://localhost:8080/"
        },
        "id": "gOEhg2ffBl15",
        "outputId": "f0450486-d789-47ce-c8bf-94f749210afd"
      },
      "execution_count": null,
      "outputs": [
        {
          "output_type": "execute_result",
          "data": {
            "text/plain": [
              "array(['13/10/2021', nan, '-', '29/09/2021', '26/11/2021', '09/12/2021',\n",
              "       '12/11/2021', '16/12/2021', '11/11/2021', '09/11/2021',\n",
              "       '24/11/2021', '0', '30/09/2021'], dtype=object)"
            ]
          },
          "metadata": {},
          "execution_count": 18
        }
      ]
    },
    {
      "cell_type": "code",
      "source": [
        "df[\"Data Ord. Pgto\"].replace(\"-\", np.nan , inplace=True)"
      ],
      "metadata": {
        "id": "UaitPWYqBkER"
      },
      "execution_count": null,
      "outputs": []
    },
    {
      "cell_type": "code",
      "source": [
        "df[\"Data Ord. Pgto\"].replace(0, np.nan , inplace=True)"
      ],
      "metadata": {
        "id": "BBrOW912CYFq"
      },
      "execution_count": null,
      "outputs": []
    },
    {
      "cell_type": "code",
      "source": [
        "df.isnull().sum()"
      ],
      "metadata": {
        "colab": {
          "base_uri": "https://localhost:8080/"
        },
        "id": "uEcnSx4CCdBa",
        "outputId": "28f8491c-f596-47af-a471-9ae223da1e18"
      },
      "execution_count": null,
      "outputs": [
        {
          "output_type": "execute_result",
          "data": {
            "text/plain": [
              "NO_UF                 0\n",
              "SG_UF                 0\n",
              "CO_UF                 0\n",
              "NO_MUNICIPIO          0\n",
              "CO_MUNICIPIO          0\n",
              "                   ... \n",
              "Vl Pago Custeio       2\n",
              "Vl Pago Capital       3\n",
              "Valor Pago Total      3\n",
              "Data Ord. Pgto      113\n",
              "in_MED              151\n",
              "Length: 65, dtype: int64"
            ]
          },
          "metadata": {},
          "execution_count": 21
        }
      ]
    },
    {
      "cell_type": "markdown",
      "source": [
        "113 escolas não receberam repasse do PDDE Educação Conectada em 2021\n",
        "\n",
        "Repasse total em 2021 para as escolas foi de R$ 194.475,00, sendo 103.286,34 para capital e  91.188,66 para custeio"
      ],
      "metadata": {
        "id": "1KrmzQvxCjfo"
      }
    },
    {
      "cell_type": "code",
      "source": [
        "df['TCP_DOWN_MBPS'].unique()"
      ],
      "metadata": {
        "colab": {
          "base_uri": "https://localhost:8080/"
        },
        "id": "ry5Xl0cyCimF",
        "outputId": "39bde62f-4805-4496-bdfe-f6fa710b7fef"
      },
      "execution_count": null,
      "outputs": [
        {
          "output_type": "execute_result",
          "data": {
            "text/plain": [
              "array([nan, '53,38', '18,77', '82,38', '65,44', '38,63', '36,38', '20,68',\n",
              "       '22,88', '27,79', '47,24', '42,98', '33,56', '38,07', '13,03',\n",
              "       '50,85', '9,6', '73,95', '86,61', '63,42', '11,89', '17,88',\n",
              "       '10,09', '34,26', '9,64', '39,13', '4,74', '11,14', '17,13'],\n",
              "      dtype=object)"
            ]
          },
          "metadata": {},
          "execution_count": 22
        }
      ]
    },
    {
      "cell_type": "code",
      "source": [
        "df['LAST_MEASURE2'].unique()"
      ],
      "metadata": {
        "colab": {
          "base_uri": "https://localhost:8080/"
        },
        "id": "_0MTj2xoEtyU",
        "outputId": "72deb911-f52d-494c-f0ef-10f450b29fa6"
      },
      "execution_count": null,
      "outputs": [
        {
          "output_type": "execute_result",
          "data": {
            "text/plain": [
              "array([nan, '2/1/22 16:22', '3/4/22 21:05', '3/7/22 6:46', '3/7/22 18:03',\n",
              "       '3/7/22 16:13', '3/7/22 17:07', '9/15/21 12:08', '12/15/21 11:33',\n",
              "       '3/7/22 11:05', '3/7/22 15:12', '3/7/22 18:29', '3/7/22 16:23',\n",
              "       '2/7/22 11:21', '3/3/22 10:22', '3/11/21 6:09', '3/7/22 7:15',\n",
              "       '10/5/21 8:26', '3/7/22 15:44', '12/24/21 15:12', '12/17/21 1:33',\n",
              "       '3/7/22 18:41', '8/26/21 10:07', '8/26/21 10:35', '9/30/21 15:27',\n",
              "       '3/7/22 23:05', '3/5/22 10:26', '3/4/22 8:48', '3/3/22 11:32'],\n",
              "      dtype=object)"
            ]
          },
          "metadata": {},
          "execution_count": 23
        }
      ]
    },
    {
      "cell_type": "code",
      "source": [
        "df.LAST_MEASURE2.isnull().sum()"
      ],
      "metadata": {
        "colab": {
          "base_uri": "https://localhost:8080/"
        },
        "id": "TrW6raZeE8-I",
        "outputId": "1bab1bf3-23e3-4716-a229-7d1d04ed1553"
      },
      "execution_count": null,
      "outputs": [
        {
          "output_type": "execute_result",
          "data": {
            "text/plain": [
              "153"
            ]
          },
          "metadata": {},
          "execution_count": 24
        }
      ]
    },
    {
      "cell_type": "markdown",
      "source": [
        "153 escolas sem medidor"
      ],
      "metadata": {
        "id": "Id6-VzVOFlZj"
      }
    },
    {
      "cell_type": "code",
      "source": [
        "len(df[df['vel_est'] == \"NA\"])"
      ],
      "metadata": {
        "colab": {
          "base_uri": "https://localhost:8080/"
        },
        "id": "fNrxqT7qGFWS",
        "outputId": "a8aad2ea-15cc-4d90-fe66-bb2deccf97be"
      },
      "execution_count": null,
      "outputs": [
        {
          "output_type": "execute_result",
          "data": {
            "text/plain": [
              "0"
            ]
          },
          "metadata": {},
          "execution_count": 25
        }
      ]
    },
    {
      "cell_type": "code",
      "source": [
        "df['vel_est'].unique()"
      ],
      "metadata": {
        "colab": {
          "base_uri": "https://localhost:8080/"
        },
        "id": "TtQElVF3Fkiy",
        "outputId": "42dd0c7c-2b64-40e2-de4f-8bd4c6515b3d"
      },
      "execution_count": null,
      "outputs": [
        {
          "output_type": "execute_result",
          "data": {
            "text/plain": [
              "array([nan, '0,360675676', '0,145503876', '0,206466165', '0,208407643',\n",
              "       '0,07741483', '0,104240688', '0,144615385', '0,05635468',\n",
              "       '0,204338235', '0,277882353', '0,172610442', '0,277355372',\n",
              "       '0,200368421', '0,075755814', '0,225', '0,038709677',\n",
              "       '0,293452381', '0,241253482', '0,2265', '0,031289474',\n",
              "       '0,047301587', '0,024371981', '0,283140496', '0,051550802',\n",
              "       '0,149351145', '0,107727273', '0,179677419', '0,300526316'],\n",
              "      dtype=object)"
            ]
          },
          "metadata": {},
          "execution_count": 26
        }
      ]
    },
    {
      "cell_type": "code",
      "source": [
        "len(df[df['vel_est'] >= \"0,1\"])"
      ],
      "metadata": {
        "colab": {
          "base_uri": "https://localhost:8080/"
        },
        "id": "j8ZEsLJPG24A",
        "outputId": "46ef0597-090e-4d28-e680-27ba00f94cb0"
      },
      "execution_count": null,
      "outputs": [
        {
          "output_type": "execute_result",
          "data": {
            "text/plain": [
              "20"
            ]
          },
          "metadata": {},
          "execution_count": 27
        }
      ]
    },
    {
      "cell_type": "markdown",
      "source": [
        "20 escolas com 100k/aluno e nenhuma escola no parâmetro de 1 mbps/estudante"
      ],
      "metadata": {
        "id": "hpocHcytHrS6"
      }
    }
  ]
}